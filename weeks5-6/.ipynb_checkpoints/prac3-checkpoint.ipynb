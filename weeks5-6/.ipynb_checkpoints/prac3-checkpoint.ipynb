{
 "cells": [
  {
   "cell_type": "markdown",
   "metadata": {},
   "source": [
    "# Introduction to Artificial Intelligence for Non Computing"
   ]
  },
  {
   "cell_type": "markdown",
   "metadata": {},
   "source": [
    "## Practical 3 (weeks 5 - 6)"
   ]
  },
  {
   "cell_type": "markdown",
   "metadata": {},
   "source": [
    "The following links provide additional information about data analysis , machine learning and Numpy"
   ]
  },
  {
   "cell_type": "markdown",
   "metadata": {},
   "source": [
    "Python data analysis: https://www.imooc.com/learn/843\n",
    "machine learning: https://www.imooc.com/learn/717\n",
    "Numpy :https://www.imooc.com/learn/943"
   ]
  },
  {
   "cell_type": "markdown",
   "metadata": {},
   "source": [
    "#### Theory Questions"
   ]
  },
  {
   "cell_type": "markdown",
   "metadata": {},
   "source": [
    "1\\.Which of the following are true and which are false? Give brief explanations.\n",
    "- a. In a fully observable, turn-taking, zero-sum game between two perfectly rational players,it does not help the first player to know what strategy the second player is using—that is, what move the second player will make, given the first player's move.\n",
    "- b. In a partially observable, turn-taking, zero-sum game between two perfectly rational players, it does not help the first player to know what move the second player will make, given the first player's move.\n",
    "- c. A perfectly rational backgammon agent never loses.\n",
    "\n",
    "See textbook Chapter6 24.6"
   ]
  },
  {
   "cell_type": "markdown",
   "metadata": {},
   "source": [
    "_your answer here..._ \n",
    "\n",
    "a is true. The second player will do better, so is perfectly predictabel up to ties. Knowing which if two equally good moves the opponent will make does not change the value of the game to first player.\n",
    "b is flase.In a partially observablr game, knowing the second player's move tells the first player additional information about the game state that would otherwise be avaliable only to the second player.\n",
    "c is flase.Backgammon is a game of chance, and the opponent may consistently roll much better dice. The correct statement is that the expected winnings are optimal."
   ]
  },
  {
   "cell_type": "markdown",
   "metadata": {},
   "source": [
    "2\\.Define in your own words the terms constraint, backtracking search, arc consistency,backjumping, min-conflicts, and cycle cutset.\n",
    "\n",
    "See textbook Chapter6 6.16"
   ]
  },
  {
   "cell_type": "markdown",
   "metadata": {},
   "source": [
    "_your answer here..._ \n",
    "\n",
    "constraint : A constraint is a restriction on the possible values of two or move variables.\n",
    "backtracing search : Backtracking search is a kind of DFS. For a certain search tree ,backtracking and DFS.the main difference is that backtracking method is not in the solution process. The complete tree structure is preserved.\n",
    "arc consistency : A directed arc from variable A to variable B in a CSP is arc consistent if, for every value in the current domain of A, there is some consistent value of B.\n",
    "backjumping : Backjumping is a way of making backtracking search more efficient by jumping back more than one level when a dead end is reached.\n",
    "Min-conflicts is a heuristic for use with local search on CSP problem. The heuristic says that, when given a variable to modify, choose the value that conflicts with the fewest number of other variable.\n",
    "cyce cutest : A cycle cutest is a set of variable which when removed from the constrain graph make it acyclic. When the variables of a cycle cutest are instrantiated the remainder of the CSP can be solved in linear time."
   ]
  },
  {
   "cell_type": "markdown",
   "metadata": {},
   "source": [
    "3\\.Explain why it is a good heuristic to choose the variable that is most constrained but the value that is least constraining in a CSP search.\n",
    "\n",
    "See textbook Chapter6 6.9"
   ]
  },
  {
   "cell_type": "markdown",
   "metadata": {},
   "source": [
    "_your answer here..._ \n",
    "\n",
    "the most constrained variable makes sense because if chooses a variable that is likely to cause a failure, and it is more efficient to fail as early as possible. The least constraining value heuristic makes sense because it allows the most chances for future assignment to avoid conflict."
   ]
  },
  {
   "cell_type": "markdown",
   "metadata": {},
   "source": [
    "4\\.Consider the following procedure for choosing moves in games with chance nodes: \n",
    "- 1、Generate some dice-roll sequences (say, 50) down to a suitable depth (say, 8).\n",
    "- 2、With known dice rolls, the game tree becomes deterministic. For each dice-roll sequence,solve the resulting deterministic game tree using alpha-beta.\n",
    "- 3、Use the results to estimate the value of each move and to choose the best.Will this procedure work well? Why (or why not)?\n",
    "\n",
    "See textbook Chapter5 5.19"
   ]
  },
  {
   "cell_type": "markdown",
   "metadata": {},
   "source": [
    "_your answer here..._ \n",
    "\n",
    "This procedure will give incorrect results. Mathematically the procedure amounts to assuming that averaging commutes with min and max, which it does not intuitively, the choices made by each player in the deterministic trees are based on full konwledge of future dice rolls and bear no necessary relationship to move without such knowledge."
   ]
  },
  {
   "cell_type": "markdown",
   "metadata": {},
   "source": [
    "5\\. Now,please consider this game:  there are three plates A, B and C, each plate has three bills. A puts 1, 20, 50; B puts 5, 10, 100; C puts 1, 5, 20. All units are \"Yuan\". There are two persons A and B, and two of them can check out three plates and banknotes .（ A is ourself, The other is B）\n",
    "The game is divided into three steps: \n",
    "- 1、A select a plate from three plate.\n",
    "- 2、B take out two banknotes from A selected plate,and give the  banknotes to A.  \n",
    "- 3、A take one of the two banknotes, and take it away.among,A want to get the max banknotes, B want to let A to get the min.\n",
    "\n",
    "Try to understand the minimax algorithm，you can click the link:https://blog.csdn.net/tangchenyi/article/details/22920031"
   ]
  },
  {
   "cell_type": "markdown",
   "metadata": {},
   "source": [
    "_your answer here..._ \n",
    "\n",
    "***"
   ]
  },
  {
   "cell_type": "markdown",
   "metadata": {},
   "source": [
    "### Programming Excercises"
   ]
  },
  {
   "cell_type": "markdown",
   "metadata": {},
   "source": [
    "1\\. Guess number(Single number): please generate a randomly number  with the function (random), then ask someone to guess the number,I think we should give the corresponding hint, otherwise it will be very difficult to guess the number.the game will be over untill you get the right number."
   ]
  },
  {
   "cell_type": "code",
   "execution_count": null,
   "metadata": {},
   "outputs": [],
   "source": [
    "import random\n",
    "\n",
    "def check(i, result, number):\n",
    "    if result:\n",
    "        if i > number:\n",
    "            print(\"input number larger than random number\")\n",
    "        elif i < number:\n",
    "            print(\"input number less than random number\")\n",
    "        elif i == number:\n",
    "            print(\"you get right number\")\n",
    "            result = False\n",
    "    return result\n",
    "\n",
    "\n",
    "i = int(input())\n",
    "number = random.randint(0, 100)\n",
    "while number%2 == 0:\n",
    "    number = random.randint(0, 100)\n",
    "print(number)\n",
    "result = True\n",
    "while result:\n",
    "    result = check(i, result, number)\n",
    "\n",
    "    if result:\n",
    "        a = int(input())\n",
    "        i = a\n"
   ]
  },
  {
   "cell_type": "markdown",
   "metadata": {},
   "source": [
    "2\\.if you had understand the guess single number games,Congratulates,next is the guess three number games,Maybe you can do it well.But this is a different way of thinking. \n",
    "first : we need generate three numbers,there are most ten times chances give  you to guess the number,of course,we also give you some cue.\n",
    "\n",
    "- 'When I say:-->It means:\n",
    "- 'error--> The 3 numbers are not in the mystical numbers.'\n",
    "- 'Only the number is correct --> the number is right , but the position is not right.'\n",
    "- 'Absolutely right--> numbers is right and the position also right.'\n",
    "\n",
    "Maybe it's better for you to understand the rule well through see the picture.\n",
    "<div style=\"float:left;\" ><img src=\"img/p1.png\" width=\"400\" height=\"300\" >"
   ]
  },
  {
   "cell_type": "code",
   "execution_count": null,
   "metadata": {},
   "outputs": [],
   "source": [
    "import random\n",
    "\n",
    "a = random.randint(1,9)\n",
    "b = random.randint(0,9)\n",
    "c = random.randint(0,9)\n",
    "i = int(1)\n",
    "while(i<11):\n",
    "    print(\"This is the \",i,\" time:\")\n",
    "    guess = input()\n",
    "    map_guess = map(int,guess)\n",
    "    list_a = list(guess)\n",
    "    if int(list_a[0]) == a:\n",
    "        state1 = \"Absolutely right\"\n",
    "    elif str(a) in list_a:\n",
    "       state1 = \"Only the number is correct\"\n",
    "    else:\n",
    "        state1 = \"error\"\n",
    "    if int(list_a[1]) == b:\n",
    "        state2 = \"Absolutely right\"\n",
    "    elif str(b) in list_a:\n",
    "        state2 = \"Only the number is correct\"\n",
    "    else:\n",
    "        state2 = \"error\"\n",
    "    if int(list_a[2]) == c:\n",
    "       state3 = \"Absolutely right\"\n",
    "    elif str(c) in list_a:\n",
    "        state3 = \"Only the number is correct\"\n",
    "    else:\n",
    "        state3 = \"error\"\n",
    "    result = [state1,state2,state3]\n",
    "    if result.count(\"Absolutely right\") ==3:\n",
    "        result = \"Congratulation\"\n",
    "    print(result)\n",
    "    i = i+1\n"
   ]
  },
  {
   "cell_type": "markdown",
   "metadata": {},
   "source": [
    "3\\.please try using Python's Tkinter to make a visual interface（GUI）.if you don't know anything.Maybe you can refer to the below interface.and implement it by code.\n",
    "\n",
    "<div style=\"float:left;\" ><img src=\"img/p2.png\" width=\"200\" height=\"200\" >"
   ]
  },
  {
   "cell_type": "code",
   "execution_count": null,
   "metadata": {},
   "outputs": [],
   "source": [
    "## write your answer here!\n",
    "from tkinter import *\n",
    "frame = Tk()\n",
    "list = [\"java\",\"SQL\", \"html\",\"php\", \"Python\",\"C\"]\n",
    "moive = [\"css\", \"jQuery\", \"bootstrap\"]\n",
    "listb = Listbox(frame, font=(\"宋体\", 15), highlightbackground=\"black\")\n",
    "listb2 = Listbox(frame, font=(\"宋体\", 15), highlightbackground=\"black\")\n",
    "\n",
    "for item in list:\n",
    "    listb.insert(0, item)\n",
    "\n",
    "for item2 in moive:\n",
    "    listb2.insert(0, item2)\n",
    "\n",
    "listb.pack()\n",
    "listb2.pack()\n",
    "\n",
    "frame.mainloop()"
   ]
  },
  {
   "cell_type": "markdown",
   "metadata": {},
   "source": [
    "4\\.Through the initial trial of Tkinter,    please write a simple calculator.\n",
    "\n",
    "<div style=\"float:left;\" ><img src=\"img/p3.png\" width=\"180\" height=\"200\" center=\"left\"></div>\n",
    "<div style=\"float:left;\" ><img src=\"img/p4.png\" width=\"180\" height=\"200\" center=\"right\" ></div>"
   ]
  },
  {
   "cell_type": "code",
   "execution_count": 1,
   "metadata": {},
   "outputs": [],
   "source": [
    "## write your answer here!\n",
    "from tkinter import *\n",
    "\n",
    "class Calculator(Frame):\n",
    "     def __init__(self):\n",
    "        Frame.__init__(self)\n",
    "        self.pack(expand=YES, fill=BOTH)\n",
    "        self.master.title('calculator')\n",
    "        self.master.rowconfigure( 0, weight = 1 )\n",
    "        self.master.columnconfigure( 0, weight = 1 )\n",
    "        self.grid( sticky = W+E+N+S )\n",
    "\n",
    "        display = StringVar()\n",
    "        entry = Entry(self, relief=SUNKEN, textvariable=display)\n",
    "        entry.grid(row=0, column=0, columnspan=4, sticky=W+E+N+S)\n",
    "\n",
    "        grid = '789+456-123*0./='\n",
    "        for index,textChar in enumerate(grid):\n",
    "            a = Button(self, text=textChar, width=5, command=lambda text=textChar:display.set(display.get() + text))\n",
    "            a.grid(row=1+index//4, column=index%4)\n",
    "            button_text = a.cget(\"text\")\n",
    "            if button_text == '=':\n",
    "                a.config(command=lambda:display.set(eval(display.get())))\n",
    "\n",
    "        b = Button(self, text=\"clear\", width=20, command=lambda:display.set(\"\"))\n",
    "        b.grid(row=7, column=0, columnspan=4, sticky=W+E+N+S)\n",
    "\n",
    "\n",
    "\n",
    "if __name__ == '__main__':\n",
    "    Calculator().mainloop()\n"
   ]
  },
  {
   "cell_type": "markdown",
   "metadata": {},
   "source": [
    "5\\.Ball game:Python's pinball game, which can realize the game function of the keyboard control bottom baffle moving collision ball similar to table tennis game. \n",
    "\n",
    "<div style=\"float:left;\" ><img src=\"img/p5.png\" width=\"200\" height=\"200\" center=\"left\"></div>\n",
    "<div style=\"float:left;\" ><img src=\"img/p6.png\" width=\"200\" height=\"200\" center=\"right\" ></div>\n"
   ]
  },
  {
   "cell_type": "markdown",
   "metadata": {},
   "source": [
    "this is a step:how to install the matplotlib,you can reference this link:https://blog.csdn.net/not_give_up_/article/details/79058272\n",
    "1. Ball Class\n",
    "    draw is responsible for moving Ball\n",
    "    Collision detection, bounce, Ball detection of Paddle \n",
    "2. Paddle Class\n",
    "    draw is responsible for moving Paddle\n",
    "    Collision detection to determine whether or not to continue ,Monitor keyboard events\n",
    "3. main cycle\n",
    "    Drawing the Ball and Paddle"
   ]
  },
  {
   "cell_type": "code",
   "execution_count": null,
   "metadata": {},
   "outputs": [],
   "source": [
    "## write your answer here!"
   ]
  }
 ],
 "metadata": {
  "kernelspec": {
   "display_name": "Python 3",
   "language": "python",
   "name": "python3"
  },
  "language_info": {
   "codemirror_mode": {
    "name": "ipython",
    "version": 3
   },
   "file_extension": ".py",
   "mimetype": "text/x-python",
   "name": "python",
   "nbconvert_exporter": "python",
   "pygments_lexer": "ipython3",
   "version": "3.7.0"
  }
 },
 "nbformat": 4,
 "nbformat_minor": 2
}
